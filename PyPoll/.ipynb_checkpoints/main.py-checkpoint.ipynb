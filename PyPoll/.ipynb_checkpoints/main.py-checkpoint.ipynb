{
 "cells": [
  {
   "cell_type": "code",
   "execution_count": null,
   "metadata": {},
   "outputs": [],
   "source": [
    "# os allows to create file paths accross operating systems\n",
    "import os \n",
    "\n",
    "# csv allows to read csv files \n",
    "import csv \n",
    "\n",
    "\n",
    "#concatenates file path\n",
    "csvpath = os.path.join('.', 'Resources', 'election_data.csv')\n",
    "\n",
    "#open csv file\n",
    "with open(csvpath) as csvfile:\n",
    "    \n",
    "    csvreader = csv.reader(csvfile, delimiter=',')\n",
    "    \n",
    "    next(csvreader) #skip first line\n",
    "    \n",
    "    totalVotes = 0\n",
    "    \n",
    "    for row in csvreader:\n",
    "            \n",
    "        totalVotes += 1\n",
    "            \n",
    "    print(\"Election Results\")\n",
    "    print(\"-----------------------\")\n",
    "    print(\"Total Votes: \" + str(totalVotes))\n",
    "    "
   ]
  },
  {
   "cell_type": "code",
   "execution_count": null,
   "metadata": {},
   "outputs": [],
   "source": []
  }
 ],
 "metadata": {
  "kernelspec": {
   "display_name": "Python 3",
   "language": "python",
   "name": "python3"
  },
  "language_info": {
   "codemirror_mode": {
    "name": "ipython",
    "version": 3
   },
   "file_extension": ".py",
   "mimetype": "text/x-python",
   "name": "python",
   "nbconvert_exporter": "python",
   "pygments_lexer": "ipython3",
   "version": "3.8.5"
  }
 },
 "nbformat": 4,
 "nbformat_minor": 4
}
